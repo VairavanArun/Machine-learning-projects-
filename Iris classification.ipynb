{
 "cells": [
  {
   "cell_type": "code",
   "execution_count": 2,
   "metadata": {},
   "outputs": [],
   "source": [
    "#necessary imports\n",
    "import matplotlib.pyplot as plt \n",
    "from sklearn import metrics\n",
    "import pandas as pd\n",
    "import seaborn as sns\n",
    "import numpy as np\n",
    "from sklearn.model_selection import train_test_split\n",
    "from sklearn.model_selection import learning_curve"
   ]
  },
  {
   "cell_type": "code",
   "execution_count": 3,
   "metadata": {},
   "outputs": [],
   "source": [
    "#read dataset\n",
    "from sklearn.datasets import load_iris\n",
    "\n",
    "#create object\n",
    "iris=load_iris()\n",
    "\n",
    "#create dataframe\n",
    "df=pd.DataFrame(iris.data)\n",
    "\n",
    "#get column names\n",
    "df.columns=iris.feature_names"
   ]
  },
  {
   "cell_type": "code",
   "execution_count": 4,
   "metadata": {},
   "outputs": [
    {
     "data": {
      "text/html": [
       "<div>\n",
       "<style scoped>\n",
       "    .dataframe tbody tr th:only-of-type {\n",
       "        vertical-align: middle;\n",
       "    }\n",
       "\n",
       "    .dataframe tbody tr th {\n",
       "        vertical-align: top;\n",
       "    }\n",
       "\n",
       "    .dataframe thead th {\n",
       "        text-align: right;\n",
       "    }\n",
       "</style>\n",
       "<table border=\"1\" class=\"dataframe\">\n",
       "  <thead>\n",
       "    <tr style=\"text-align: right;\">\n",
       "      <th></th>\n",
       "      <th>sepal length (cm)</th>\n",
       "      <th>sepal width (cm)</th>\n",
       "      <th>petal length (cm)</th>\n",
       "      <th>petal width (cm)</th>\n",
       "    </tr>\n",
       "  </thead>\n",
       "  <tbody>\n",
       "    <tr>\n",
       "      <th>0</th>\n",
       "      <td>5.1</td>\n",
       "      <td>3.5</td>\n",
       "      <td>1.4</td>\n",
       "      <td>0.2</td>\n",
       "    </tr>\n",
       "    <tr>\n",
       "      <th>1</th>\n",
       "      <td>4.9</td>\n",
       "      <td>3.0</td>\n",
       "      <td>1.4</td>\n",
       "      <td>0.2</td>\n",
       "    </tr>\n",
       "    <tr>\n",
       "      <th>2</th>\n",
       "      <td>4.7</td>\n",
       "      <td>3.2</td>\n",
       "      <td>1.3</td>\n",
       "      <td>0.2</td>\n",
       "    </tr>\n",
       "    <tr>\n",
       "      <th>3</th>\n",
       "      <td>4.6</td>\n",
       "      <td>3.1</td>\n",
       "      <td>1.5</td>\n",
       "      <td>0.2</td>\n",
       "    </tr>\n",
       "    <tr>\n",
       "      <th>4</th>\n",
       "      <td>5.0</td>\n",
       "      <td>3.6</td>\n",
       "      <td>1.4</td>\n",
       "      <td>0.2</td>\n",
       "    </tr>\n",
       "  </tbody>\n",
       "</table>\n",
       "</div>"
      ],
      "text/plain": [
       "   sepal length (cm)  sepal width (cm)  petal length (cm)  petal width (cm)\n",
       "0                5.1               3.5                1.4               0.2\n",
       "1                4.9               3.0                1.4               0.2\n",
       "2                4.7               3.2                1.3               0.2\n",
       "3                4.6               3.1                1.5               0.2\n",
       "4                5.0               3.6                1.4               0.2"
      ]
     },
     "execution_count": 4,
     "metadata": {},
     "output_type": "execute_result"
    }
   ],
   "source": [
    "#see the first five rows of data\n",
    "df.head()"
   ]
  },
  {
   "cell_type": "code",
   "execution_count": 5,
   "metadata": {},
   "outputs": [
    {
     "data": {
      "text/html": [
       "<div>\n",
       "<style scoped>\n",
       "    .dataframe tbody tr th:only-of-type {\n",
       "        vertical-align: middle;\n",
       "    }\n",
       "\n",
       "    .dataframe tbody tr th {\n",
       "        vertical-align: top;\n",
       "    }\n",
       "\n",
       "    .dataframe thead th {\n",
       "        text-align: right;\n",
       "    }\n",
       "</style>\n",
       "<table border=\"1\" class=\"dataframe\">\n",
       "  <thead>\n",
       "    <tr style=\"text-align: right;\">\n",
       "      <th></th>\n",
       "      <th>sepal length (cm)</th>\n",
       "      <th>sepal width (cm)</th>\n",
       "      <th>petal length (cm)</th>\n",
       "      <th>petal width (cm)</th>\n",
       "      <th>species</th>\n",
       "    </tr>\n",
       "  </thead>\n",
       "  <tbody>\n",
       "    <tr>\n",
       "      <th>0</th>\n",
       "      <td>5.1</td>\n",
       "      <td>3.5</td>\n",
       "      <td>1.4</td>\n",
       "      <td>0.2</td>\n",
       "      <td>0</td>\n",
       "    </tr>\n",
       "    <tr>\n",
       "      <th>1</th>\n",
       "      <td>4.9</td>\n",
       "      <td>3.0</td>\n",
       "      <td>1.4</td>\n",
       "      <td>0.2</td>\n",
       "      <td>0</td>\n",
       "    </tr>\n",
       "    <tr>\n",
       "      <th>2</th>\n",
       "      <td>4.7</td>\n",
       "      <td>3.2</td>\n",
       "      <td>1.3</td>\n",
       "      <td>0.2</td>\n",
       "      <td>0</td>\n",
       "    </tr>\n",
       "    <tr>\n",
       "      <th>3</th>\n",
       "      <td>4.6</td>\n",
       "      <td>3.1</td>\n",
       "      <td>1.5</td>\n",
       "      <td>0.2</td>\n",
       "      <td>0</td>\n",
       "    </tr>\n",
       "    <tr>\n",
       "      <th>4</th>\n",
       "      <td>5.0</td>\n",
       "      <td>3.6</td>\n",
       "      <td>1.4</td>\n",
       "      <td>0.2</td>\n",
       "      <td>0</td>\n",
       "    </tr>\n",
       "  </tbody>\n",
       "</table>\n",
       "</div>"
      ],
      "text/plain": [
       "   sepal length (cm)  sepal width (cm)  petal length (cm)  petal width (cm)  \\\n",
       "0                5.1               3.5                1.4               0.2   \n",
       "1                4.9               3.0                1.4               0.2   \n",
       "2                4.7               3.2                1.3               0.2   \n",
       "3                4.6               3.1                1.5               0.2   \n",
       "4                5.0               3.6                1.4               0.2   \n",
       "\n",
       "   species  \n",
       "0        0  \n",
       "1        0  \n",
       "2        0  \n",
       "3        0  \n",
       "4        0  "
      ]
     },
     "execution_count": 5,
     "metadata": {},
     "output_type": "execute_result"
    }
   ],
   "source": [
    "#add target to dataframe\n",
    "df['species']=iris.target\n",
    "\n",
    "df.head()"
   ]
  },
  {
   "cell_type": "code",
   "execution_count": 6,
   "metadata": {},
   "outputs": [
    {
     "data": {
      "text/html": [
       "<div>\n",
       "<style scoped>\n",
       "    .dataframe tbody tr th:only-of-type {\n",
       "        vertical-align: middle;\n",
       "    }\n",
       "\n",
       "    .dataframe tbody tr th {\n",
       "        vertical-align: top;\n",
       "    }\n",
       "\n",
       "    .dataframe thead th {\n",
       "        text-align: right;\n",
       "    }\n",
       "</style>\n",
       "<table border=\"1\" class=\"dataframe\">\n",
       "  <thead>\n",
       "    <tr style=\"text-align: right;\">\n",
       "      <th></th>\n",
       "      <th>sepal length (cm)</th>\n",
       "      <th>sepal width (cm)</th>\n",
       "      <th>petal length (cm)</th>\n",
       "      <th>petal width (cm)</th>\n",
       "      <th>species</th>\n",
       "    </tr>\n",
       "  </thead>\n",
       "  <tbody>\n",
       "    <tr>\n",
       "      <th>145</th>\n",
       "      <td>6.7</td>\n",
       "      <td>3.0</td>\n",
       "      <td>5.2</td>\n",
       "      <td>2.3</td>\n",
       "      <td>2</td>\n",
       "    </tr>\n",
       "    <tr>\n",
       "      <th>146</th>\n",
       "      <td>6.3</td>\n",
       "      <td>2.5</td>\n",
       "      <td>5.0</td>\n",
       "      <td>1.9</td>\n",
       "      <td>2</td>\n",
       "    </tr>\n",
       "    <tr>\n",
       "      <th>147</th>\n",
       "      <td>6.5</td>\n",
       "      <td>3.0</td>\n",
       "      <td>5.2</td>\n",
       "      <td>2.0</td>\n",
       "      <td>2</td>\n",
       "    </tr>\n",
       "    <tr>\n",
       "      <th>148</th>\n",
       "      <td>6.2</td>\n",
       "      <td>3.4</td>\n",
       "      <td>5.4</td>\n",
       "      <td>2.3</td>\n",
       "      <td>2</td>\n",
       "    </tr>\n",
       "    <tr>\n",
       "      <th>149</th>\n",
       "      <td>5.9</td>\n",
       "      <td>3.0</td>\n",
       "      <td>5.1</td>\n",
       "      <td>1.8</td>\n",
       "      <td>2</td>\n",
       "    </tr>\n",
       "  </tbody>\n",
       "</table>\n",
       "</div>"
      ],
      "text/plain": [
       "     sepal length (cm)  sepal width (cm)  petal length (cm)  petal width (cm)  \\\n",
       "145                6.7               3.0                5.2               2.3   \n",
       "146                6.3               2.5                5.0               1.9   \n",
       "147                6.5               3.0                5.2               2.0   \n",
       "148                6.2               3.4                5.4               2.3   \n",
       "149                5.9               3.0                5.1               1.8   \n",
       "\n",
       "     species  \n",
       "145        2  \n",
       "146        2  \n",
       "147        2  \n",
       "148        2  \n",
       "149        2  "
      ]
     },
     "execution_count": 6,
     "metadata": {},
     "output_type": "execute_result"
    }
   ],
   "source": [
    "df.tail()"
   ]
  },
  {
   "cell_type": "code",
   "execution_count": 7,
   "metadata": {},
   "outputs": [
    {
     "name": "stdout",
     "output_type": "stream",
     "text": [
      "<class 'pandas.core.frame.DataFrame'>\n",
      "RangeIndex: 150 entries, 0 to 149\n",
      "Data columns (total 5 columns):\n",
      " #   Column             Non-Null Count  Dtype  \n",
      "---  ------             --------------  -----  \n",
      " 0   sepal length (cm)  150 non-null    float64\n",
      " 1   sepal width (cm)   150 non-null    float64\n",
      " 2   petal length (cm)  150 non-null    float64\n",
      " 3   petal width (cm)   150 non-null    float64\n",
      " 4   species            150 non-null    int32  \n",
      "dtypes: float64(4), int32(1)\n",
      "memory usage: 5.4 KB\n"
     ]
    }
   ],
   "source": [
    "df.info()"
   ]
  },
  {
   "cell_type": "code",
   "execution_count": 8,
   "metadata": {},
   "outputs": [
    {
     "data": {
      "text/html": [
       "<div>\n",
       "<style scoped>\n",
       "    .dataframe tbody tr th:only-of-type {\n",
       "        vertical-align: middle;\n",
       "    }\n",
       "\n",
       "    .dataframe tbody tr th {\n",
       "        vertical-align: top;\n",
       "    }\n",
       "\n",
       "    .dataframe thead th {\n",
       "        text-align: right;\n",
       "    }\n",
       "</style>\n",
       "<table border=\"1\" class=\"dataframe\">\n",
       "  <thead>\n",
       "    <tr style=\"text-align: right;\">\n",
       "      <th></th>\n",
       "      <th>sepal length (cm)</th>\n",
       "      <th>sepal width (cm)</th>\n",
       "      <th>petal length (cm)</th>\n",
       "      <th>petal width (cm)</th>\n",
       "      <th>species</th>\n",
       "    </tr>\n",
       "  </thead>\n",
       "  <tbody>\n",
       "    <tr>\n",
       "      <th>count</th>\n",
       "      <td>150.000000</td>\n",
       "      <td>150.000000</td>\n",
       "      <td>150.000000</td>\n",
       "      <td>150.000000</td>\n",
       "      <td>150.000000</td>\n",
       "    </tr>\n",
       "    <tr>\n",
       "      <th>mean</th>\n",
       "      <td>5.843333</td>\n",
       "      <td>3.057333</td>\n",
       "      <td>3.758000</td>\n",
       "      <td>1.199333</td>\n",
       "      <td>1.000000</td>\n",
       "    </tr>\n",
       "    <tr>\n",
       "      <th>std</th>\n",
       "      <td>0.828066</td>\n",
       "      <td>0.435866</td>\n",
       "      <td>1.765298</td>\n",
       "      <td>0.762238</td>\n",
       "      <td>0.819232</td>\n",
       "    </tr>\n",
       "    <tr>\n",
       "      <th>min</th>\n",
       "      <td>4.300000</td>\n",
       "      <td>2.000000</td>\n",
       "      <td>1.000000</td>\n",
       "      <td>0.100000</td>\n",
       "      <td>0.000000</td>\n",
       "    </tr>\n",
       "    <tr>\n",
       "      <th>25%</th>\n",
       "      <td>5.100000</td>\n",
       "      <td>2.800000</td>\n",
       "      <td>1.600000</td>\n",
       "      <td>0.300000</td>\n",
       "      <td>0.000000</td>\n",
       "    </tr>\n",
       "    <tr>\n",
       "      <th>50%</th>\n",
       "      <td>5.800000</td>\n",
       "      <td>3.000000</td>\n",
       "      <td>4.350000</td>\n",
       "      <td>1.300000</td>\n",
       "      <td>1.000000</td>\n",
       "    </tr>\n",
       "    <tr>\n",
       "      <th>75%</th>\n",
       "      <td>6.400000</td>\n",
       "      <td>3.300000</td>\n",
       "      <td>5.100000</td>\n",
       "      <td>1.800000</td>\n",
       "      <td>2.000000</td>\n",
       "    </tr>\n",
       "    <tr>\n",
       "      <th>max</th>\n",
       "      <td>7.900000</td>\n",
       "      <td>4.400000</td>\n",
       "      <td>6.900000</td>\n",
       "      <td>2.500000</td>\n",
       "      <td>2.000000</td>\n",
       "    </tr>\n",
       "  </tbody>\n",
       "</table>\n",
       "</div>"
      ],
      "text/plain": [
       "       sepal length (cm)  sepal width (cm)  petal length (cm)  \\\n",
       "count         150.000000        150.000000         150.000000   \n",
       "mean            5.843333          3.057333           3.758000   \n",
       "std             0.828066          0.435866           1.765298   \n",
       "min             4.300000          2.000000           1.000000   \n",
       "25%             5.100000          2.800000           1.600000   \n",
       "50%             5.800000          3.000000           4.350000   \n",
       "75%             6.400000          3.300000           5.100000   \n",
       "max             7.900000          4.400000           6.900000   \n",
       "\n",
       "       petal width (cm)     species  \n",
       "count        150.000000  150.000000  \n",
       "mean           1.199333    1.000000  \n",
       "std            0.762238    0.819232  \n",
       "min            0.100000    0.000000  \n",
       "25%            0.300000    0.000000  \n",
       "50%            1.300000    1.000000  \n",
       "75%            1.800000    2.000000  \n",
       "max            2.500000    2.000000  "
      ]
     },
     "execution_count": 8,
     "metadata": {},
     "output_type": "execute_result"
    }
   ],
   "source": [
    "df.describe()"
   ]
  },
  {
   "cell_type": "code",
   "execution_count": 9,
   "metadata": {},
   "outputs": [
    {
     "data": {
      "image/png": "[encoded data removed]",
      "text/plain": [
       "<Figure size 432x288 with 1 Axes>"
      ]
     },
     "metadata": {
      "needs_background": "light"
     },
     "output_type": "display_data"
    }
   ],
   "source": [
    "#plot sepal length vs sepal width\n",
    "plt.scatter(df['sepal length (cm)'],df['sepal width (cm)'],c=df['species'])\n",
    "plt.show()"
   ]
  },
  {
   "cell_type": "code",
   "execution_count": 10,
   "metadata": {},
   "outputs": [
    {
     "data": {
      "image/png": "[encoded data removed]",
      "text/plain": [
       "<Figure size 432x288 with 1 Axes>"
      ]
     },
     "metadata": {
      "needs_background": "light"
     },
     "output_type": "display_data"
    }
   ],
   "source": [
    "#plot petal length vs petal width\n",
    "plt.scatter(df['petal length (cm)'],df['petal width (cm)'],c=df['species'])\n",
    "plt.show()"
   ]
  },
  {
   "cell_type": "code",
   "execution_count": 11,
   "metadata": {},
   "outputs": [
    {
     "data": {
      "text/plain": [
       "<matplotlib.axes._subplots.AxesSubplot at 0x2a9c20f5888>"
      ]
     },
     "execution_count": 11,
     "metadata": {},
     "output_type": "execute_result"
    },
    {
     "data": {
      "image/png": "[encoded data removed]",
      "text/plain": [
       "<Figure size 432x288 with 2 Axes>"
      ]
     },
     "metadata": {
      "needs_background": "light"
     },
     "output_type": "display_data"
    }
   ],
   "source": [
    "#plot correlation between features\n",
    "\n",
    "c=df.drop('species',axis=1).corr()\n",
    "sns.heatmap(c,cmap='BrBG',annot=True)"
   ]
  },
  {
   "cell_type": "code",
   "execution_count": 12,
   "metadata": {},
   "outputs": [
    {
     "name": "stdout",
     "output_type": "stream",
     "text": [
      "Number of duplicate rows:  (1, 5)\n"
     ]
    }
   ],
   "source": [
    "duplicates=df[df.duplicated()]\n",
    "print(\"Number of duplicate rows: \",duplicates.shape)"
   ]
  },
  {
   "cell_type": "code",
   "execution_count": 13,
   "metadata": {},
   "outputs": [
    {
     "data": {
      "text/plain": [
       "sepal length (cm)    149\n",
       "sepal width (cm)     149\n",
       "petal length (cm)    149\n",
       "petal width (cm)     149\n",
       "species              149\n",
       "dtype: int64"
      ]
     },
     "execution_count": 13,
     "metadata": {},
     "output_type": "execute_result"
    }
   ],
   "source": [
    "df=df.drop_duplicates() #drop duplicate rows\n",
    "\n",
    "df.count()"
   ]
  },
  {
   "cell_type": "code",
   "execution_count": 14,
   "metadata": {},
   "outputs": [
    {
     "data": {
      "text/plain": [
       "sepal length (cm)    0\n",
       "sepal width (cm)     0\n",
       "petal length (cm)    0\n",
       "petal width (cm)     0\n",
       "species              0\n",
       "dtype: int64"
      ]
     },
     "execution_count": 14,
     "metadata": {},
     "output_type": "execute_result"
    }
   ],
   "source": [
    "#check for null entries\n",
    "df.isnull().sum()"
   ]
  },
  {
   "cell_type": "code",
   "execution_count": 15,
   "metadata": {},
   "outputs": [
    {
     "data": {
      "text/plain": [
       "<matplotlib.axes._subplots.AxesSubplot at 0x2a9c21e96c8>"
      ]
     },
     "execution_count": 15,
     "metadata": {},
     "output_type": "execute_result"
    },
    {
     "data": {
      "image/png": "[encoded data removed]",
      "text/plain": [
       "<Figure size 432x288 with 1 Axes>"
      ]
     },
     "metadata": {
      "needs_background": "light"
     },
     "output_type": "display_data"
    }
   ],
   "source": [
    "#create box plot of each feature\n",
    "sns.boxplot(x=df['sepal length (cm)'])"
   ]
  },
  {
   "cell_type": "code",
   "execution_count": 16,
   "metadata": {},
   "outputs": [
    {
     "data": {
      "text/plain": [
       "<matplotlib.axes._subplots.AxesSubplot at 0x2a9c225c648>"
      ]
     },
     "execution_count": 16,
     "metadata": {},
     "output_type": "execute_result"
    },
    {
     "data": {
      "image/png": "[encoded data removed]",
      "text/plain": [
       "<Figure size 432x288 with 1 Axes>"
      ]
     },
     "metadata": {
      "needs_background": "light"
     },
     "output_type": "display_data"
    }
   ],
   "source": [
    "sns.boxplot(x=df['sepal width (cm)'])"
   ]
  },
  {
   "cell_type": "code",
   "execution_count": 17,
   "metadata": {},
   "outputs": [
    {
     "data": {
      "text/plain": [
       "<matplotlib.axes._subplots.AxesSubplot at 0x2a9c22bcd88>"
      ]
     },
     "execution_count": 17,
     "metadata": {},
     "output_type": "execute_result"
    },
    {
     "data": {
      "image/png": "[encoded data removed]",
      "text/plain": [
       "<Figure size 432x288 with 1 Axes>"
      ]
     },
     "metadata": {
      "needs_background": "light"
     },
     "output_type": "display_data"
    }
   ],
   "source": [
    "sns.boxplot(x=df['petal length (cm)'])"
   ]
  },
  {
   "cell_type": "code",
   "execution_count": 18,
   "metadata": {},
   "outputs": [
    {
     "data": {
      "text/plain": [
       "<matplotlib.axes._subplots.AxesSubplot at 0x2a9c232aa88>"
      ]
     },
     "execution_count": 18,
     "metadata": {},
     "output_type": "execute_result"
    },
    {
     "data": {
      "image/png": "[encoded data removed]",
      "text/plain": [
       "<Figure size 432x288 with 1 Axes>"
      ]
     },
     "metadata": {
      "needs_background": "light"
     },
     "output_type": "display_data"
    }
   ],
   "source": [
    "sns.boxplot(x=df['petal width (cm)'])"
   ]
  },
  {
   "cell_type": "code",
   "execution_count": 19,
   "metadata": {},
   "outputs": [
    {
     "name": "stdout",
     "output_type": "stream",
     "text": [
      "sepal length (cm)    1.3\n",
      "sepal width (cm)     0.5\n",
      "petal length (cm)    3.5\n",
      "petal width (cm)     1.5\n",
      "species              2.0\n",
      "dtype: float64\n"
     ]
    }
   ],
   "source": [
    "#detect outliers\n",
    "Q1=df.quantile(0.25)\n",
    "Q3=df.quantile(0.75)\n",
    "\n",
    "IRQ=Q3-Q1\n",
    "\n",
    "print(IRQ)"
   ]
  },
  {
   "cell_type": "code",
   "execution_count": 20,
   "metadata": {},
   "outputs": [
    {
     "data": {
      "text/plain": [
       "(145, 5)"
      ]
     },
     "execution_count": 20,
     "metadata": {},
     "output_type": "execute_result"
    }
   ],
   "source": [
    "#remove outliers\n",
    "df=df[~((df< (Q1-1.5*IRQ)) | (df>(Q3+1.5*IRQ))).any(axis=1)]\n",
    "\n",
    "df.shape"
   ]
  },
  {
   "cell_type": "code",
   "execution_count": 21,
   "metadata": {},
   "outputs": [],
   "source": [
    "def calculateMetrics(model,X,y,train_test):\n",
    "    print('The '+train_test+' accuracy of model: ',metrics.accuracy_score(model.predict(X),y))\n",
    "    print('The '+train_test+ ' logloss of the model: ',metrics.log_loss(y,model.predict_proba(X)))"
   ]
  },
  {
   "cell_type": "code",
   "execution_count": 22,
   "metadata": {},
   "outputs": [
    {
     "name": "stdout",
     "output_type": "stream",
     "text": [
      "The training accuracy of model:  0.9801980198019802\n",
      "The training logloss of the model:  0.15122920453879332\n",
      "The test accuracy of model:  0.9545454545454546\n",
      "The test logloss of the model:  0.11211777308126952\n"
     ]
    }
   ],
   "source": [
    "from sklearn.linear_model import LogisticRegression\n",
    "\n",
    "X=df.drop('species',axis=1)\n",
    "y=df['species']\n",
    "\n",
    "#split test and train data\n",
    "X_train,X_test,y_train,y_test=train_test_split(X,y,test_size=0.3,random_state=42)\n",
    "\n",
    "#create model\n",
    "logReg=LogisticRegression()\n",
    "\n",
    "#fit model to train data\n",
    "logReg.fit(X_train,y_train)\n",
    "\n",
    "#calculate metrics\n",
    "calculateMetrics(logReg,X_train,y_train,\"training\")\n",
    "\n",
    "#calculate test metrics\n",
    "calculateMetrics(logReg,X_test,y_test,\"test\")"
   ]
  },
  {
   "cell_type": "code",
   "execution_count": 23,
   "metadata": {},
   "outputs": [
    {
     "name": "stdout",
     "output_type": "stream",
     "text": [
      "The training accuracy of model:  0.7722772277227723\n",
      "The training logloss of the model:  0.48914073161044513\n",
      "The test accuracy of model:  0.8409090909090909\n",
      "The test logloss of the model:  0.4425240478731933\n"
     ]
    }
   ],
   "source": [
    "#train with sepal data alone\n",
    "X_sepal_train=X_train[['sepal length (cm)','sepal width (cm)']]\n",
    "X_sepal_test=X_test[['sepal length (cm)','sepal width (cm)']]\n",
    "\n",
    "#instantiate the model\n",
    "logReg_sepal=LogisticRegression()\n",
    "\n",
    "#fit model to train data\n",
    "logReg_sepal.fit(X_sepal_train,y_train)\n",
    "\n",
    "#calculate metrics\n",
    "calculateMetrics(logReg_sepal,X_sepal_train,y_train,\"training\")\n",
    "\n",
    "#calculate test metrics\n",
    "calculateMetrics(logReg_sepal,X_sepal_test,y_test,\"test\")"
   ]
  },
  {
   "cell_type": "code",
   "execution_count": 24,
   "metadata": {},
   "outputs": [
    {
     "name": "stdout",
     "output_type": "stream",
     "text": [
      "The training accuracy of model:  0.9702970297029703\n",
      "The training logloss of the model:  0.16436045707208247\n",
      "The test accuracy of model:  0.9545454545454546\n",
      "The test logloss of the model:  0.12038548104050499\n"
     ]
    }
   ],
   "source": [
    "#train with petal data alone\n",
    "X_petal_train=X_train[['petal length (cm)','petal width (cm)']]\n",
    "X_petal_test=X_test[['petal length (cm)','petal width (cm)']]\n",
    "\n",
    "#instantiate the model\n",
    "logReg_petal=LogisticRegression()\n",
    "\n",
    "#fit model to train data\n",
    "logReg_petal.fit(X_petal_train,y_train)\n",
    "\n",
    "#calculate metrics\n",
    "calculateMetrics(logReg_petal,X_petal_train,y_train,\"training\")\n",
    "\n",
    "#calculate test metrics\n",
    "calculateMetrics(logReg_petal,X_petal_test,y_test,\"test\")"
   ]
  },
  {
   "cell_type": "code",
   "execution_count": 25,
   "metadata": {},
   "outputs": [
    {
     "name": "stdout",
     "output_type": "stream",
     "text": [
      "The training accuracy of model:  1.0\n",
      "The training logloss of the model:  2.1094237467878e-15\n",
      "The test accuracy of model:  0.9318181818181818\n",
      "The test logloss of the model:  2.3549165723802754\n",
      "number of nodes before pruning:  9\n",
      "maximum depth before pruning:  4\n"
     ]
    }
   ],
   "source": [
    "#train with decsion tree classifier\n",
    "from sklearn import tree\n",
    "\n",
    "#create an object\n",
    "clf=tree.DecisionTreeClassifier(random_state=42)\n",
    "\n",
    "#fit to train data\n",
    "clf.fit(X_train,y_train)\n",
    "\n",
    "#calculate training metrics\n",
    "calculateMetrics(clf,X_train,y_train,\"training\")\n",
    "\n",
    "#calculate test metrics\n",
    "calculateMetrics(clf,X_test,y_test,\"test\")\n",
    "\n",
    "#print the number of nodes and levels in tree before pruning\n",
    "print(\"number of nodes before pruning: \",clf.tree_.node_count)\n",
    "print(\"maximum depth before pruning: \",clf.tree_.max_depth)"
   ]
  },
  {
   "cell_type": "code",
   "execution_count": 26,
   "metadata": {},
   "outputs": [
    {
     "data": {
      "image/png": "[encoded data removed]",
      "text/plain": [
       "<Figure size 432x288 with 1 Axes>"
      ]
     },
     "metadata": {
      "needs_background": "light"
     },
     "output_type": "display_data"
    }
   ],
   "source": [
    "#post prune the tree \n",
    "path=clf.cost_complexity_pruning_path(X_train,y_train)\n",
    "\n",
    "#get effective alphas for the tree\n",
    "ccp_alphas,impurities=path.ccp_alphas,path.impurities\n",
    "\n",
    "clfs=[]\n",
    "\n",
    "#train the tree with each ccp_alpha\n",
    "for ccp_alpha in ccp_alphas:\n",
    "    clf_pruned=tree.DecisionTreeClassifier(random_state=42,ccp_alpha=ccp_alpha)\n",
    "    clf_pruned.fit(X_train,y_train)\n",
    "    clfs.append(clf)\n",
    "\n",
    "#remove the last tree\n",
    "clfs=clfs[:-1]\n",
    "ccp_alphas=ccp_alphas[:-1]\n",
    "\n",
    "#calculate the training and test scores of each tree\n",
    "train_score=[clf.score(X_train,y_train) for clf in clfs]\n",
    "test_score=[clf.score(X_test,y_test) for clf in clfs]\n",
    "\n",
    "#plot train score and test score vs alpha\n",
    "plt.plot(ccp_alphas,train_score,marker='o',label='train',drawstyle='steps-post')\n",
    "plt.plot(ccp_alphas,test_score,marker='o',label='test',drawstyle='steps-post')\n",
    "plt.legend()\n",
    "plt.show()"
   ]
  },
  {
   "cell_type": "code",
   "execution_count": 27,
   "metadata": {},
   "outputs": [
    {
     "name": "stdout",
     "output_type": "stream",
     "text": [
      "The training accuracy of model:  0.9900990099009901\n",
      "The training logloss of the model:  0.02227069879678656\n",
      "The test accuracy of model:  0.9545454545454546\n",
      "The test logloss of the model:  1.576482610506209\n",
      "number of nodes after pruning:  7\n",
      "max depth after pruning:  3\n"
     ]
    }
   ],
   "source": [
    "#ccp_alpha of 0.03 maximise the test accuracy \n",
    "\n",
    "clf_pruned=tree.DecisionTreeClassifier(random_state=0,ccp_alpha=0.03)\n",
    "\n",
    "#fit the model\n",
    "clf_pruned.fit(X_train,y_train)\n",
    "\n",
    "#calculate training metrics\n",
    "calculateMetrics(clf_pruned,X_train,y_train,\"training\")\n",
    "\n",
    "#calculate test metrics\n",
    "calculateMetrics(clf_pruned,X_test,y_test,\"test\")\n",
    "\n",
    "#print number of nodes and depth\n",
    "print(\"number of nodes after pruning: \",clf_pruned.tree_.node_count)\n",
    "print(\"max depth after pruning: \",clf_pruned.tree_.max_depth)"
   ]
  },
  {
   "cell_type": "code",
   "execution_count": 28,
   "metadata": {},
   "outputs": [
    {
     "name": "stdout",
     "output_type": "stream",
     "text": [
      "The training accuracy of model:  1.0\n",
      "The training logloss of the model:  0.026236859927564637\n",
      "The test accuracy of model:  0.9545454545454546\n",
      "The test logloss of the model:  0.1866230241606721\n"
     ]
    }
   ],
   "source": [
    "#train using random forest classifier\n",
    "from sklearn.ensemble import RandomForestClassifier\n",
    "\n",
    "#instantiate the model\n",
    "rf=RandomForestClassifier()\n",
    "\n",
    "#fit the training data\n",
    "rf.fit(X_train,y_train)\n",
    "\n",
    "#calculate training metrics\n",
    "calculateMetrics(rf,X_train,y_train,\"training\")\n",
    "\n",
    "#calcualte test metrics\n",
    "calculateMetrics(rf,X_test,y_test,\"test\")"
   ]
  },
  {
   "cell_type": "code",
   "execution_count": 29,
   "metadata": {},
   "outputs": [
    {
     "data": {
      "text/plain": [
       "{'bootstrap': True,\n",
       " 'ccp_alpha': 0.0,\n",
       " 'class_weight': None,\n",
       " 'criterion': 'gini',\n",
       " 'max_depth': None,\n",
       " 'max_features': 'auto',\n",
       " 'max_leaf_nodes': None,\n",
       " 'max_samples': None,\n",
       " 'min_impurity_decrease': 0.0,\n",
       " 'min_impurity_split': None,\n",
       " 'min_samples_leaf': 1,\n",
       " 'min_samples_split': 2,\n",
       " 'min_weight_fraction_leaf': 0.0,\n",
       " 'n_estimators': 100,\n",
       " 'n_jobs': None,\n",
       " 'oob_score': False,\n",
       " 'random_state': None,\n",
       " 'verbose': 0,\n",
       " 'warm_start': False}"
      ]
     },
     "execution_count": 29,
     "metadata": {},
     "output_type": "execute_result"
    }
   ],
   "source": [
    "#go for hyper parameter tuning to avoid overfitting\n",
    "\n",
    "#get the hyper parameters\n",
    "rf.get_params()"
   ]
  },
  {
   "cell_type": "code",
   "execution_count": 30,
   "metadata": {},
   "outputs": [],
   "source": [
    "#intialize the hyper parameter\n",
    "n_estimators=[int(x) for x in np.linspace(start=200,stop=2000,num=10)]\n",
    "\n",
    "max_features=['sqrt','log2']\n",
    "\n",
    "max_depth=[int(x) for x in np.linspace(10,110,num=11)]\n",
    "max_depth.append(None)\n",
    "\n",
    "min_samples_split=[2,5,10]\n",
    "\n",
    "min_samples_leaf=[1,2,4]\n",
    "\n",
    "boot_strap=[True,False]\n",
    "\n",
    "param_grid={'n_estimators':n_estimators,'max_features':max_features,'max_depth':max_depth,'min_samples_split':min_samples_split,\n",
    "           'min_samples_leaf':min_samples_leaf,'bootstrap':boot_strap}"
   ]
  },
  {
   "cell_type": "code",
   "execution_count": 31,
   "metadata": {},
   "outputs": [
    {
     "data": {
      "text/plain": [
       "RandomizedSearchCV(cv=5, error_score=nan,\n",
       "                   estimator=RandomForestClassifier(bootstrap=True,\n",
       "                                                    ccp_alpha=0.0,\n",
       "                                                    class_weight=None,\n",
       "                                                    criterion='gini',\n",
       "                                                    max_depth=None,\n",
       "                                                    max_features='auto',\n",
       "                                                    max_leaf_nodes=None,\n",
       "                                                    max_samples=None,\n",
       "                                                    min_impurity_decrease=0.0,\n",
       "                                                    min_impurity_split=None,\n",
       "                                                    min_samples_leaf=1,\n",
       "                                                    min_samples_split=2,\n",
       "                                                    min_weight_fraction_leaf=0.0,\n",
       "                                                    n_estimators=100,\n",
       "                                                    n_jobs...\n",
       "                   param_distributions={'bootstrap': [True, False],\n",
       "                                        'max_depth': [10, 20, 30, 40, 50, 60,\n",
       "                                                      70, 80, 90, 100, 110,\n",
       "                                                      None],\n",
       "                                        'max_features': ['sqrt', 'log2'],\n",
       "                                        'min_samples_leaf': [1, 2, 4],\n",
       "                                        'min_samples_split': [2, 5, 10],\n",
       "                                        'n_estimators': [200, 400, 600, 800,\n",
       "                                                         1000, 1200, 1400, 1600,\n",
       "                                                         1800, 2000]},\n",
       "                   pre_dispatch='2*n_jobs', random_state=42, refit=True,\n",
       "                   return_train_score=False, scoring=None, verbose=0)"
      ]
     },
     "execution_count": 31,
     "metadata": {},
     "output_type": "execute_result"
    }
   ],
   "source": [
    "#import randomized search cv\n",
    "from sklearn.model_selection import RandomizedSearchCV\n",
    "\n",
    "#instantiate randomized search cv\n",
    "rf_random=RandomizedSearchCV(estimator=rf,param_distributions=param_grid,n_iter=100,cv=5,random_state=42,n_jobs=-1)\n",
    "\n",
    "#fit the model\n",
    "rf_random.fit(X_train,y_train)"
   ]
  },
  {
   "cell_type": "code",
   "execution_count": 32,
   "metadata": {},
   "outputs": [
    {
     "data": {
      "text/plain": [
       "{'n_estimators': 400,\n",
       " 'min_samples_split': 10,\n",
       " 'min_samples_leaf': 4,\n",
       " 'max_features': 'log2',\n",
       " 'max_depth': 80,\n",
       " 'bootstrap': False}"
      ]
     },
     "execution_count": 32,
     "metadata": {},
     "output_type": "execute_result"
    }
   ],
   "source": [
    "rf_random.best_params_"
   ]
  },
  {
   "cell_type": "code",
   "execution_count": 33,
   "metadata": {},
   "outputs": [
    {
     "name": "stdout",
     "output_type": "stream",
     "text": [
      "The training accuracy of model:  0.9900990099009901\n",
      "The training logloss of the model:  0.04065386200794742\n",
      "The test accuracy of model:  0.9545454545454546\n",
      "The test logloss of the model:  0.169291704781561\n"
     ]
    }
   ],
   "source": [
    "rf_best_random=RandomForestClassifier(bootstrap=True,n_estimators=400,min_samples_split=5,min_samples_leaf=1,max_features='log2',\n",
    "                                      max_depth=30)\n",
    "rf_best_random.fit(X_train,y_train)\n",
    "\n",
    "#calculate training metrics\n",
    "calculateMetrics(rf_best_random,X_train,y_train,\"training\")\n",
    "\n",
    "#calcualte test metrics\n",
    "calculateMetrics(rf_best_random,X_test,y_test,\"test\")      "
   ]
  },
  {
   "cell_type": "code",
   "execution_count": 34,
   "metadata": {},
   "outputs": [],
   "source": [
    "from sklearn.model_selection import GridSearchCV\n",
    "\n",
    "param_grid={'n_estimators':range(300,500,50),'min_samples_split':[3,4,5],'min_samples_leaf':[1,2,3],'max_features':['sqrt','auto','log2'],\n",
    "           'max_depth':range(20,40,5)}\n",
    "\n",
    "rf_grid=GridSearchCV(estimator=RandomForestClassifier(),param_grid=param_grid,cv=5,n_jobs=-1)"
   ]
  },
  {
   "cell_type": "code",
   "execution_count": 35,
   "metadata": {},
   "outputs": [
    {
     "data": {
      "text/plain": [
       "{'max_depth': 20,\n",
       " 'max_features': 'auto',\n",
       " 'min_samples_leaf': 1,\n",
       " 'min_samples_split': 5,\n",
       " 'n_estimators': 350}"
      ]
     },
     "execution_count": 35,
     "metadata": {},
     "output_type": "execute_result"
    }
   ],
   "source": [
    "rf_grid.fit(X_train,y_train)\n",
    "\n",
    "rf_grid.best_params_"
   ]
  },
  {
   "cell_type": "code",
   "execution_count": 36,
   "metadata": {},
   "outputs": [
    {
     "name": "stdout",
     "output_type": "stream",
     "text": [
      "The training accuracy of model:  1.0\n",
      "The training logloss of the model:  0.0356817395090303\n",
      "The test accuracy of model:  0.9545454545454546\n",
      "The test logloss of the model:  0.15527583050834098\n"
     ]
    }
   ],
   "source": [
    "rf_grid_best=RandomForestClassifier(max_depth=25,max_features='sqrt',min_samples_leaf=1,min_samples_split=4,n_estimators=300)\n",
    "\n",
    "#fit the model\n",
    "rf_grid_best.fit(X_train,y_train)\n",
    "\n",
    "#calculate training metrics\n",
    "calculateMetrics(rf_grid_best,X_train,y_train,\"training\")\n",
    "\n",
    "#calcualte test metrics\n",
    "calculateMetrics(rf_grid_best,X_test,y_test,\"test\")"
   ]
  },
  {
   "cell_type": "code",
   "execution_count": 37,
   "metadata": {},
   "outputs": [
    {
     "name": "stdout",
     "output_type": "stream",
     "text": [
      "The training accuracy of model:  0.9306930693069307\n",
      "The training logloss of the model:  0.12098741442735211\n",
      "The test accuracy of model:  1.0\n",
      "The test logloss of the model:  0.08889037085694786\n"
     ]
    }
   ],
   "source": [
    "#train using svm\n",
    "from sklearn.svm import SVC\n",
    "\n",
    "svm=SVC(probability=True)\n",
    "\n",
    "#fit the model\n",
    "svm.fit(X_train,y_train)\n",
    "\n",
    "#calculate training metrics\n",
    "calculateMetrics(svm,X_train,y_train,\"training\")\n",
    "\n",
    "#calcualte test metrics\n",
    "calculateMetrics(svm,X_test,y_test,\"test\")"
   ]
  },
  {
   "cell_type": "code",
   "execution_count": 38,
   "metadata": {},
   "outputs": [
    {
     "name": "stdout",
     "output_type": "stream",
     "text": [
      "The training accuracy of model:  0.9504950495049505\n",
      "The training logloss of the model:  0.06241575900551567\n",
      "The test accuracy of model:  0.9772727272727273\n",
      "The test logloss of the model:  0.8034024229801613\n"
     ]
    }
   ],
   "source": [
    "#train using Knearest neighbours\n",
    "from sklearn.neighbors import KNeighborsClassifier\n",
    "\n",
    "#instantiate the model\n",
    "knn=KNeighborsClassifier(n_neighbors=3)\n",
    "\n",
    "#fit the model\n",
    "knn.fit(X_train,y_train)\n",
    "\n",
    "#calculate training metrics\n",
    "calculateMetrics(knn,X_train,y_train,\"training\")\n",
    "\n",
    "#calcualte test metrics\n",
    "calculateMetrics(knn,X_test,y_test,\"test\")"
   ]
  },
  {
   "cell_type": "code",
   "execution_count": 57,
   "metadata": {},
   "outputs": [],
   "source": [
    "models=[logReg,clf,clf_pruned,rf,rf_best_random,rf_grid_best]\n",
    "\n",
    "M=['logReg','Decision tree','Decision tree pruned','Random forest', 'Random forest randomSearchCV','Random Forest gridSearchCV']\n",
    "\n",
    "#calculate the accuracy\n",
    "train_accuracy=[metrics.accuracy_score(model.predict(X_train),y_train) for model in models]\n",
    "test_accuracy=[metrics.accuracy_score(model.predict(X_test),y_test) for model in models]\n",
    "\n",
    "#calcluate the log loss of the models\n",
    "train_loss=[metrics.log_loss(y_train,model.predict_proba(X_train)) for model in models]\n",
    "test_loss=[metrics.log_loss(y_test,model.predict_proba(X_test)) for model in models]"
   ]
  },
  {
   "cell_type": "code",
   "execution_count": 90,
   "metadata": {},
   "outputs": [
    {
     "data": {
      "image/png": "[encoded data removed]",
      "text/plain": [
       "<Figure size 720x504 with 1 Axes>"
      ]
     },
     "metadata": {
      "needs_background": "light"
     },
     "output_type": "display_data"
    }
   ],
   "source": [
    "plt.figure(figsize=(10,7))\n",
    "plt.bar(range(len(train_accuracy)),train_accuracy)\n",
    "plt.title(\"training and testing accuracy')\n",
    "plt.xticks(range(len(train_accuracy)),M,rotation='vertical')\n",
    "plt.bar(range(len(test_accuracy)),test_accuracy)\n",
    "plt.xticks(range(len(test_accuracy)),M,rotation='vertical')\n",
    "plt.legend(('train','test'))\n",
    "plt.show()"
   ]
  },
  {
   "cell_type": "code",
   "execution_count": 91,
   "metadata": {},
   "outputs": [
    {
     "data": {
      "image/png": "[encoded data removed]",
      "text/plain": [
       "<Figure size 720x504 with 1 Axes>"
      ]
     },
     "metadata": {
      "needs_background": "light"
     },
     "output_type": "display_data"
    }
   ],
   "source": [
    "plt.figure(figsize=(10,7))\n",
    "plt.bar(range(len(train_loss)),train_loss)\n",
    "plt.title(\"training and test log loss\")\n",
    "plt.xticks(range(len(train_loss)),M,rotation='vertical')\n",
    "plt.bar(range(len(test_loss)),test_loss)\n",
    "plt.xticks(range(len(test_loss)),M,rotation='vertical')\n",
    "plt.legend(('train','test'))\n",
    "plt.show()"
   ]
  },
  {
   "cell_type": "code",
   "execution_count": null,
   "metadata": {},
   "outputs": [],
   "source": []
  }
 ],
 "metadata": {
  "kernelspec": {
   "display_name": "Python 3",
   "language": "python",
   "name": "python3"
  },
  "language_info": {
   "codemirror_mode": {
    "name": "ipython",
    "version": 3
   },
   "file_extension": ".py",
   "mimetype": "text/x-python",
   "name": "python",
   "nbconvert_exporter": "python",
   "pygments_lexer": "ipython3",
   "version": "3.7.7"
  }
 },
 "nbformat": 4,
 "nbformat_minor": 4
}
